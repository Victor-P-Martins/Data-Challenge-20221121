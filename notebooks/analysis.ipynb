{
 "cells": [
  {
   "cell_type": "markdown",
   "metadata": {},
   "source": [
    "# Data Challenge 20221121\n",
    "\n",
    "Desafio de dados focado em fazer uma análise exploratória de duas bases de dados disponibilizadas em formato csv.\n",
    "\n",
    "- Lista de filmes da Netflix: netflix_titles.csv\n",
    "\n",
    "- Lista de filmes da Amazon Prime: amazon_prime_titles.csv\n",
    "\n",
    "## Filtro de dados\n",
    "\n",
    "Nessa etapa você poderá exibir os dados por meio de uma REST API ou no Colab, Jupyter Notebook ou similar. Exiba as seguintes informações:\n",
    "\n",
    "1 - Top 10 atores/atrizes considerando todos os dados;\n",
    "\n",
    "2 - Top 5 países produtores de conteúdos considerando todos os dados e comparando as duas plataformas;\n",
    "\n",
    "3 - Mês no qual há mais adições de filmes na plataforma Netflix;\n",
    "\n",
    "4 - Quantidade de filmes listados como comédia.\n",
    "\n",
    "5 - Lista de todos os gêneros de filmes.\n",
    "\n",
    "6 - A frequência de \"TV Show\" de todos os dados e comparativamente em relação as duas plataformas\n",
    "\n",
    "7 - A frequência de \"Movies\" de todos os dados e comparativamente em relação as duas plataformas"
   ]
  },
  {
   "cell_type": "code",
   "execution_count": 2,
   "metadata": {},
   "outputs": [],
   "source": [
    "import pandas as pd"
   ]
  },
  {
   "cell_type": "code",
   "execution_count": 3,
   "metadata": {
    "tags": []
   },
   "outputs": [],
   "source": [
    "df_amazon_prime = pd.read_csv(r\"data\\amazon_prime_titles.csv\",sep=\",\",encoding=\"utf-8\")\n",
    "df_netflix = pd.read_csv(r\"data\\netflix_titles.csv\",sep=',',encoding=\"utf-8\")"
   ]
  },
  {
   "cell_type": "code",
   "execution_count": 4,
   "metadata": {},
   "outputs": [],
   "source": [
    "#Transformações\n",
    "df_amazon_prime['company'] = \"Prime\"\n",
    "df_netflix['company'] = \"Netflix\"\n",
    "\n",
    "df_total_companys = pd.concat([df_amazon_prime,df_netflix],ignore_index=True)\n",
    "df_total_companys['country_list'] = df_total_companys['country'].str.split(',')\n",
    "df_total_companys['cast_list'] = df_total_companys['cast'].str.split(',')\n",
    "\n",
    "df_total_companys = df_total_companys.dropna(subset=['cast_list','country_list'])\n",
    "\n",
    "df_total_companys = df_total_companys.explode(['country_list'])\n",
    "df_total_companys = df_total_companys.explode(['cast_list'])\n",
    "\n",
    "\n",
    "#Tratamento\n",
    "df_total_companys['country_list'] = df_total_companys['country_list'].str.strip()\n",
    "df_total_companys['cast_list'] = df_total_companys['cast_list'].str.strip()\n",
    "\n",
    "df_total_companys['year_added'] = df_total_companys['date_added'].str.split(\",\",expand=True)[1]\n",
    "df_total_companys['month_added'] = df_total_companys['date_added'].str.split(\",\",expand=True)[0].str.split(\" \",expand=True)[0]"
   ]
  },
  {
   "cell_type": "code",
   "execution_count": 5,
   "metadata": {},
   "outputs": [
    {
     "name": "stdout",
     "output_type": "stream",
     "text": [
      "======= TOP 5 ATORES =======\n",
      "\n",
      "                cast_list  count\n",
      "2837          Anupam Kher     52\n",
      "30292      Shah Rukh Khan     46\n",
      "7830   David Attenborough     45\n",
      "25262             Om Puri     44\n",
      "24060    Naseeruddin Shah     40\n",
      "32590         Tara Strong     39\n",
      "15644         John Cleese     39\n",
      "34969        Willem Dafoe     38\n",
      "19578         Liam Neeson     37\n",
      "834          Akshay Kumar     37 \n",
      "\n"
     ]
    }
   ],
   "source": [
    "#1 - Top 10 atores/atrizes considerando todos os dados\n",
    "\n",
    "df_compare_country_company = df_total_companys.groupby(by=[\"cast_list\"])['show_id'].count().reset_index().sort_values('show_id',ascending=False).rename(columns={\"show_id\":\"count\"})\n",
    "\n",
    "print(\"======= TOP 5 ATORES =======\\n\")\n",
    "print(df_compare_country_company.head(10),\"\\n\")"
   ]
  },
  {
   "cell_type": "code",
   "execution_count": 6,
   "metadata": {},
   "outputs": [
    {
     "name": "stdout",
     "output_type": "stream",
     "text": [
      "======= TOP 5 PAÍSES PRODUTORES DE CONTÉUDO NETFLIX =======\n",
      "\n",
      "     company    country_list  count\n",
      "109  Netflix   United States  27063\n",
      "44   Netflix           India   7750\n",
      "108  Netflix  United Kingdom   5332\n",
      "19   Netflix          Canada   3519\n",
      "52   Netflix           Japan   3453 \n",
      "\n",
      "======= TOP 5 PAÍSES PRODUTORES DE CONTÉUDO PRIME VIDEO =======\n",
      "\n",
      "    company    country_list  count\n",
      "159   Prime   United States   2110\n",
      "135   Prime           India   1724\n",
      "158   Prime  United Kingdom    363\n",
      "132   Prime         Germany    225\n",
      "123   Prime          Canada    185\n"
     ]
    }
   ],
   "source": [
    "# 2 - Top 5 países produtores de conteúdos considerando todos os dados e comparando as duas plataformas\n",
    "df_compare_country_company = df_total_companys.groupby(by=[\"company\",\"country_list\"])['show_id'].count().reset_index().sort_values('show_id',ascending=False).rename(columns={\"show_id\":\"count\"})\n",
    "\n",
    "\n",
    "print(\"======= TOP 5 PAÍSES PRODUTORES DE CONTÉUDO NETFLIX =======\\n\")\n",
    "print(df_compare_country_company[df_compare_country_company['company'] == 'Netflix'].head(5),\"\\n\")\n",
    "print(\"======= TOP 5 PAÍSES PRODUTORES DE CONTÉUDO PRIME VIDEO =======\\n\")\n",
    "print(df_compare_country_company[df_compare_country_company['company'] == 'Prime'].head(5))"
   ]
  },
  {
   "cell_type": "code",
   "execution_count": 7,
   "metadata": {},
   "outputs": [
    {
     "name": "stdout",
     "output_type": "stream",
     "text": [
      "month_added\n",
      "January      7423\n",
      "December     6915\n",
      "July         6911\n",
      "September    6679\n",
      "October      6672\n",
      "November     6342\n",
      "April        6258\n",
      "August       6202\n",
      "March        6022\n",
      "June         5870\n",
      "May          4907\n",
      "February     4826\n",
      "              741\n",
      "Name: show_id, dtype: int64\n",
      "-------------------------\n",
      "Mês com maior adição de filmes: January\n"
     ]
    }
   ],
   "source": [
    "# 3 - Mês no qual há mais adições de filmes na plataforma Netflix\n",
    "\n",
    "mes_maior_adicao = df_total_companys[df_total_companys[\"company\"] == 'Netflix']\\\n",
    "    .groupby(\"month_added\")[\"show_id\"].count()\\\n",
    "    .sort_values(ascending=False).head(1).index[0]\n",
    "\n",
    "print(df_total_companys[df_total_companys[\"company\"] == 'Netflix'].groupby(\"month_added\")[\"show_id\"].count().sort_values(ascending=False))\n",
    "\n",
    "print(f\"-------------------------\\nMês com maior adição de filmes: {mes_maior_adicao}\")\n"
   ]
  },
  {
   "cell_type": "code",
   "execution_count": 8,
   "metadata": {},
   "outputs": [
    {
     "name": "stdout",
     "output_type": "stream",
     "text": [
      "Total de filmes listados como Comedy: 2007\n"
     ]
    }
   ],
   "source": [
    "#4 - Quantidade de filmes listados como comédia.\n",
    "total_comedy = len(df_total_companys[df_total_companys[\"listed_in\"].str.contains(\"Comedy\")])\n",
    "\n",
    "print(f\"Total de filmes listados como Comedy: {total_comedy}\")\n"
   ]
  },
  {
   "cell_type": "code",
   "execution_count": 9,
   "metadata": {},
   "outputs": [
    {
     "name": "stdout",
     "output_type": "stream",
     "text": [
      "Comedy\n",
      "Drama\n",
      "International\n",
      "Action\n",
      "Suspense\n",
      "Documentary\n",
      "Fantasy\n",
      "Kids\n",
      "Special Interest\n",
      "Science Fiction\n",
      "Adventure\n",
      "Horror\n",
      "Sports\n",
      "TV Shows\n",
      "Unscripted\n",
      "Arts\n",
      "Entertainment\n",
      "and Culture\n",
      "Romance\n",
      "Animation\n",
      "LGBTQ\n",
      "Young Adult Audience\n",
      "Military and War\n",
      "Music Videos and Concerts\n",
      "Historical\n",
      "Arthouse\n",
      "Western\n",
      "Talk Show and Variety\n",
      "Faith and Spirituality\n",
      "Anime\n",
      "International TV Shows\n",
      "TV Dramas\n",
      "TV Mysteries\n",
      "Romantic TV Shows\n",
      "TV Comedies\n",
      "Dramas\n",
      "Independent Movies\n",
      "International Movies\n",
      "British TV Shows\n",
      "Reality TV\n",
      "Comedies\n",
      "Crime TV Shows\n",
      "Spanish-Language TV Shows\n",
      "TV Action & Adventure\n",
      "Romantic Movies\n",
      "Docuseries\n",
      "Horror Movies\n",
      "Sci-Fi & Fantasy\n",
      "Thrillers\n",
      "Kids' TV\n",
      "Action & Adventure\n",
      "TV Sci-Fi & Fantasy\n",
      "Classic Movies\n",
      "Anime Features\n",
      "Anime Series\n",
      "Children & Family Movies\n",
      "Documentaries\n",
      "Music & Musicals\n",
      "Korean TV Shows\n",
      "Teen TV Shows\n",
      "Cult Movies\n",
      "Faith & Spirituality\n",
      "LGBTQ Movies\n",
      "TV Horror\n",
      "Stand-Up Comedy\n",
      "Movies\n",
      "Sports Movies\n",
      "Classic & Cult TV\n",
      "TV Thrillers\n",
      "Science & Nature TV\n",
      "Stand-Up Comedy & Talk Shows\n"
     ]
    }
   ],
   "source": [
    "#5 - Lista de todos os gêneros de filmes.\n",
    "for i in df_total_companys[\"listed_in\"].str.split(\", \").explode().unique().tolist():\n",
    "    print(i)"
   ]
  },
  {
   "cell_type": "code",
   "execution_count": 24,
   "metadata": {},
   "outputs": [
    {
     "name": "stdout",
     "output_type": "stream",
     "text": [
      "\n",
      " Total de Tv Shows: 21415\n",
      "\n",
      "Total tv shows por Empresa\n",
      "\n",
      "company\n",
      "Netflix    20550\n",
      "Prime        865\n",
      "Name: show_id, dtype: int64\n"
     ]
    }
   ],
   "source": [
    "#6-A frequência de \"TV Show\" de todos os dados e comparativamente em relação as duas plataformas\n",
    "\n",
    "total_ctv_shows = len(df_total_companys[df_total_companys[\"type\"] == \"TV Show\"])\n",
    "\n",
    "print(f\"\\n Total de Tv Shows: {total_ctv_shows}\\n\")\n",
    "print(\"Total tv shows por Empresa\\n\")\n",
    "print(df_total_companys[df_total_companys[\"type\"] == \"TV Show\"].groupby(\"company\")['show_id'].count())"
   ]
  },
  {
   "cell_type": "code",
   "execution_count": 25,
   "metadata": {},
   "outputs": [
    {
     "name": "stdout",
     "output_type": "stream",
     "text": [
      "\n",
      " Total de Tv Shows: 59675\n",
      "\n",
      "Total tv shows por Empresa\n",
      "\n",
      "company\n",
      "Netflix    55286\n",
      "Prime       4389\n",
      "Name: show_id, dtype: int64\n"
     ]
    }
   ],
   "source": [
    "#7 - A frequência de \"Movies\" de todos os dados e comparativamente em relação as duas plataformas\n",
    "\n",
    "total_ctv_shows = len(df_total_companys[df_total_companys[\"type\"] == \"Movie\"])\n",
    "\n",
    "print(f\"\\n Total de Tv Shows: {total_ctv_shows}\\n\")\n",
    "print(\"Total tv shows por Empresa\\n\")\n",
    "print(df_total_companys[df_total_companys[\"type\"] == \"Movie\"].groupby(\"company\")['show_id'].count())"
   ]
  }
 ],
 "metadata": {
  "kernelspec": {
   "display_name": "Python 3",
   "language": "python",
   "name": "python3"
  },
  "language_info": {
   "codemirror_mode": {
    "name": "ipython",
    "version": 3
   },
   "file_extension": ".py",
   "mimetype": "text/x-python",
   "name": "python",
   "nbconvert_exporter": "python",
   "pygments_lexer": "ipython3",
   "version": "3.10.11"
  },
  "orig_nbformat": 4
 },
 "nbformat": 4,
 "nbformat_minor": 2
}
